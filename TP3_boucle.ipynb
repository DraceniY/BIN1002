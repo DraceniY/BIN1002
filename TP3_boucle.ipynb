{
  "cells": [
    {
      "cell_type": "markdown",
      "source": [
        " # _ ** Programmation en python (suite)  **_\n",
        "\n",
        "  ## Travaux pratiques BIN 1002\n",
        "\n   ## 21 Septembre 2018"
      ],
      "metadata": {}
    },
    {
      "cell_type": "markdown",
      "source": [
        "## 1. Boucle :"
      ],
      "metadata": {}
    },
    {
      "cell_type": "code",
      "source": [
        "for x in range (5):\n",
        "    print (\"AUG\")"
      ],
      "outputs": [],
      "execution_count": null,
      "metadata": {
        "collapsed": false,
        "outputHidden": false,
        "inputHidden": false
      }
    },
    {
      "cell_type": "code",
      "source": [
        "for x in range (0,5):\n",
        "    print (\"AUG\")"
      ],
      "outputs": [],
      "execution_count": null,
      "metadata": {
        "collapsed": false,
        "outputHidden": false,
        "inputHidden": false
      }
    },
    {
      "cell_type": "markdown",
      "source": [
        "while condition :\n",
        "         # instruction \n",
        "   "
      ],
      "metadata": {}
    },
    {
      "cell_type": "code",
      "source": [
        "compteur  = 0\n",
        "while compteur  < 0:\n",
        "    print (compteur)\n",
        "    compteur += 1"
      ],
      "outputs": [],
      "execution_count": null,
      "metadata": {
        "collapsed": false,
        "outputHidden": false,
        "inputHidden": false
      }
    },
    {
      "cell_type": "code",
      "source": [
        "for x in range (0,5):\n",
        "    print (\"AUG\")\n",
        "    break"
      ],
      "outputs": [],
      "execution_count": null,
      "metadata": {
        "collapsed": false,
        "outputHidden": false,
        "inputHidden": false
      }
    },
    {
      "cell_type": "code",
      "source": [
        "complement = {'A': 'T', 'C': 'G', 'G': 'C', 'T': 'A'}\n",
        "for key , value in complement.iteritems():\n",
        "    temp = key\n",
        "    key = value\n",
        "    value = temp\n",
        "    print (key + \" est la clef \" + value + \" est la valeur.\")"
      ],
      "outputs": [
        {
          "output_type": "stream",
          "name": "stdout",
          "text": [
            "T est la clef A est la valeur.\n",
            "G est la clef C est la valeur.\n",
            "A est la clef T est la valeur.\n",
            "C est la clef G est la valeur.\n"
          ]
        }
      ],
      "execution_count": 1,
      "metadata": {
        "collapsed": false,
        "outputHidden": false,
        "inputHidden": false
      }
    },
    {
      "cell_type": "code",
      "source": [
        "liste_des_chromosomes = [\"chr1\" , \"chr2\", \"chr3\", \"chr4\", \"chr5\"]\n",
        "for chr in liste_des_chromosomes:\n",
        "    if chr == \"chr6\" :\n",
        "        print (chr)\n",
        "    else:\n",
        "        print (chr)"
      ],
      "outputs": [
        {
          "output_type": "stream",
          "name": "stdout",
          "text": [
            "chr1\n",
            "chr2\n",
            "chr3\n",
            "chr4\n",
            "chr5\n"
          ]
        }
      ],
      "execution_count": 2,
      "metadata": {
        "collapsed": false,
        "outputHidden": false,
        "inputHidden": false
      }
    },
    {
      "cell_type": "markdown",
      "source": [
        "### Le mot-clé break permet d'interrompre une boucle. \n",
        "### Le mot-clé continue permet de continuer une boucle, en repartant directement à la ligne du while ou for."
      ],
      "metadata": {}
    },
    {
      "cell_type": "code",
      "source": [
        "while 1: # 1 est toujours vrai -> boucle infinie\n",
        "    print(\"Fin de la boucle\")\n",
        "    break"
      ],
      "outputs": [
        {
          "output_type": "stream",
          "name": "stdout",
          "text": [
            "Fin de la boucle\n"
          ]
        }
      ],
      "execution_count": 3,
      "metadata": {
        "collapsed": false,
        "outputHidden": false,
        "inputHidden": false
      }
    },
    {
      "cell_type": "code",
      "source": [
        "i = 1\n",
        "\n",
        "while i < 100: # Tant que i est inférieure à 100\n",
        "\n",
        "    if i % 5 == 0:\n",
        "\n",
        "        i += 5 # On ajoute 5 à i\n",
        "\n",
        "        print(\"On incremente i de 5. i est maintenant egale a\", i)\n",
        "\n",
        "        continue # On retourne au while sans exécuter les autres lignes\n",
        "\n",
        "    print(\"La variable i =\", i)\n",
        "\n    i += 1 # Dans le cas classique on ajoute juste 1 à i"
      ],
      "outputs": [
        {
          "output_type": "stream",
          "name": "stdout",
          "text": [
            "('La variable i =', 1)\n",
            "('La variable i =', 2)\n",
            "('La variable i =', 3)\n",
            "('La variable i =', 4)\n",
            "('On incremente i de 5. i est maintenant egale a', 10)\n",
            "('On incremente i de 5. i est maintenant egale a', 15)\n",
            "('On incremente i de 5. i est maintenant egale a', 20)\n",
            "('On incremente i de 5. i est maintenant egale a', 25)\n",
            "('On incremente i de 5. i est maintenant egale a', 30)\n",
            "('On incremente i de 5. i est maintenant egale a', 35)\n",
            "('On incremente i de 5. i est maintenant egale a', 40)\n",
            "('On incremente i de 5. i est maintenant egale a', 45)\n",
            "('On incremente i de 5. i est maintenant egale a', 50)\n",
            "('On incremente i de 5. i est maintenant egale a', 55)\n",
            "('On incremente i de 5. i est maintenant egale a', 60)\n",
            "('On incremente i de 5. i est maintenant egale a', 65)\n",
            "('On incremente i de 5. i est maintenant egale a', 70)\n",
            "('On incremente i de 5. i est maintenant egale a', 75)\n",
            "('On incremente i de 5. i est maintenant egale a', 80)\n",
            "('On incremente i de 5. i est maintenant egale a', 85)\n",
            "('On incremente i de 5. i est maintenant egale a', 90)\n",
            "('On incremente i de 5. i est maintenant egale a', 95)\n",
            "('On incremente i de 5. i est maintenant egale a', 100)\n"
          ]
        }
      ],
      "execution_count": 5,
      "metadata": {
        "collapsed": false,
        "outputHidden": false,
        "inputHidden": false
      }
    },
    {
      "cell_type": "markdown",
      "source": [
        "## 2. Fonctions :"
      ],
      "metadata": {}
    },
    {
      "cell_type": "code",
      "source": [
        "# On crée une fonction selon le schéma suivant :\n",
        "\n",
        "def nom_de_la_fonction(parametre1, parametre2, parametreN):\n",
        "\n    # Bloc d'instructions"
      ],
      "outputs": [],
      "execution_count": null,
      "metadata": {
        "collapsed": false,
        "outputHidden": false,
        "inputHidden": false
      }
    },
    {
      "cell_type": "code",
      "source": [
        "def exemple():\n",
        "\n    print(\"Un exemple d'une fonction sans paramètre\")"
      ],
      "outputs": [],
      "execution_count": 4,
      "metadata": {
        "collapsed": false,
        "outputHidden": false,
        "inputHidden": false
      }
    },
    {
      "cell_type": "code",
      "source": [
        "exemple()"
      ],
      "outputs": [
        {
          "output_type": "stream",
          "name": "stdout",
          "text": [
            "Un exemple d'une fonction sans paramètre\n"
          ]
        }
      ],
      "execution_count": 5,
      "metadata": {
        "collapsed": false,
        "outputHidden": false,
        "inputHidden": false
      }
    },
    {
      "cell_type": "code",
      "source": [
        "def table(nb, max=10):\n",
        "\n",
        "    \"\"\"Fonction affichant la table de multiplication par nb\n",
        "\n",
        "    de 1*nb à max*nb\n",
        "\n",
        "    \n",
        "\n",
        "    (max >= 0)\"\"\"\n",
        "\n",
        "    i = 0\n",
        "\n",
        "    while i < max:\n",
        "\n",
        "        print(i + 1, \"*\", nb, \"=\", (i + 1) * nb)\n",
        "\n        i += 1"
      ],
      "outputs": [],
      "execution_count": 6,
      "metadata": {
        "collapsed": false,
        "outputHidden": false,
        "inputHidden": false
      }
    },
    {
      "cell_type": "code",
      "source": [
        "table (6, max=7)"
      ],
      "outputs": [
        {
          "output_type": "stream",
          "name": "stdout",
          "text": [
            "(1, '*', 6, '=', 6)\n",
            "(2, '*', 6, '=', 12)\n",
            "(3, '*', 6, '=', 18)\n",
            "(4, '*', 6, '=', 24)\n",
            "(5, '*', 6, '=', 30)\n",
            "(6, '*', 6, '=', 36)\n",
            "(7, '*', 6, '=', 42)\n"
          ]
        }
      ],
      "execution_count": 8,
      "metadata": {
        "collapsed": false,
        "outputHidden": false,
        "inputHidden": false
      }
    },
    {
      "cell_type": "markdown",
      "source": [
        "## 3. Fichiers :"
      ],
      "metadata": {}
    },
    {
      "cell_type": "code",
      "source": [
        "# 1 er facon d'ouvrir un fichier\n",
        "# ouverture du fichier et lecture\n",
        "mon_fichier = open(\"/chemin/vers/le/fichier.txt\", \"r\")\n",
        "contenu = mon_fichier.read()\n",
        "# fermeture du fichier\n",
        "mon_fichier.close()\n",
        "\n",
        "# 2 facon d'ouvrire un fichier qui ne requiere pas sa fermeture \n",
        "with open('/chemin/vers/le/fichier.txt', 'r') as mon_fichier:\n",
        "    contenu = mon_fichier.read()"
      ],
      "outputs": [],
      "execution_count": null,
      "metadata": {
        "collapsed": false,
        "outputHidden": false,
        "inputHidden": false
      }
    },
    {
      "cell_type": "code",
      "source": [
        "# 1 er facon d'ecrire un fichier\n",
        "# Ecriture d'un fichier\n",
        "mon_fichier = open(\"/chemin/vers/le/fichier.txt\", \"w\") \n",
        "# Attention vous pouvez écraser le contenu du fichier\n",
        "mon_fichier.write(\"ecrire avec la premiere methode\")\n",
        "mon_fichier.close()\n",
        "\n",
        "# 2 eme facon d'ecrire un fichier qui ne requiere pas sa fermeture \n",
        "with open('/chemin/vers/le/fichier.txt', 'w') as mon_fichier:\n",
        "    mon_fichier.write(\"ecrire avec la seconde methode\")"
      ],
      "outputs": [],
      "execution_count": null,
      "metadata": {
        "collapsed": false,
        "outputHidden": false,
        "inputHidden": false
      }
    },
    {
      "cell_type": "markdown",
      "source": [
        "## Rapelle :\n",
        "### Lorsqu'on écrit un programme en python l'extension du fichier doit  être toujours \".py\" .\n",
        "### Consultez la documentation de python https://docs.python.org/3.6/\n",
        "### Google est votre meilleur ami ! Posez-lui les questions."
      ],
      "metadata": {}
    },
    {
      "cell_type": "markdown",
      "source": [
        "# Exercice :\n",
        "## Tableau des suffixes :\n",
        "### Le but du programme est de pouvoir ouvrir un fichier FASTA et de l'analyser. \n",
        "### À partir de la séquence du fichier Fasta, vous devriez créer un tableau des suffixes de cette séquence et de la trier par suite.\n",
        "\n",
        "### Exemple d'execution : \n",
        "### python tableau_suffixes.py \n",
        "\n",
        "### T= \"ATTCGTTATGCCATGATGCCATTAAAGCCATAGATACATAGACATAGAC\"\n",
        "\n",
        "### output classement des suffixes:\n",
        "\n",
        "### 1. Tableau des suffixes :\n",
        "### [['ATTCGTTATGCCATGATGCCATTAAAGCCATAGATACATAGACATAGAC', 0],\n",
        "### ['TTCGTTATGCCATGATGCCATTAAAGCCATAGATACATAGACATAGAC', 1],\n",
        "### ['TCGTTATGCCATGATGCCATTAAAGCCATAGATACATAGACATAGAC', 2],\n",
        "### ['CGTTATGCCATGATGCCATTAAAGCCATAGATACATAGACATAGAC', 3],\n",
        "### ['GTTATGCCATGATGCCATTAAAGCCATAGATACATAGACATAGAC', 4],\n",
        "### ['TTATGCCATGATGCCATTAAAGCCATAGATACATAGACATAGAC', 5],\n",
        "### ['TATGCCATGATGCCATTAAAGCCATAGATACATAGACATAGAC', 6],\n",
        "### ['ATGCCATGATGCCATTAAAGCCATAGATACATAGACATAGAC', 7],\n",
        "### ['TGCCATGATGCCATTAAAGCCATAGATACATAGACATAGAC', 8],\n",
        "### ['GCCATGATGCCATTAAAGCCATAGATACATAGACATAGAC', 9],\n",
        "### ['CCATGATGCCATTAAAGCCATAGATACATAGACATAGAC', 10],\n",
        "### ['CATGATGCCATTAAAGCCATAGATACATAGACATAGAC', 11],\n",
        "### ['ATGATGCCATTAAAGCCATAGATACATAGACATAGAC', 12],\n",
        "### ['TGATGCCATTAAAGCCATAGATACATAGACATAGAC', 13],\n",
        "### ['GATGCCATTAAAGCCATAGATACATAGACATAGAC', 14],\n",
        "### ['ATGCCATTAAAGCCATAGATACATAGACATAGAC', 15],\n",
        "### ['TGCCATTAAAGCCATAGATACATAGACATAGAC', 16],\n",
        "### ['GCCATTAAAGCCATAGATACATAGACATAGAC', 17],\n",
        "### ['CCATTAAAGCCATAGATACATAGACATAGAC', 18],\n",
        "### ['CATTAAAGCCATAGATACATAGACATAGAC', 19],\n",
        "### ['ATTAAAGCCATAGATACATAGACATAGAC', 20],\n",
        "### ['TTAAAGCCATAGATACATAGACATAGAC', 21],\n",
        "### ['TAAAGCCATAGATACATAGACATAGAC', 22],\n",
        "### ['AAAGCCATAGATACATAGACATAGAC', 23],\n",
        "### ['AAGCCATAGATACATAGACATAGAC', 24],\n",
        "### ['AGCCATAGATACATAGACATAGAC', 25],\n",
        "### ['GCCATAGATACATAGACATAGAC', 26],\n",
        "### ['CCATAGATACATAGACATAGAC', 27],\n",
        "### ['CATAGATACATAGACATAGAC', 28],\n",
        "### ['ATAGATACATAGACATAGAC', 29],\n",
        "### ['TAGATACATAGACATAGAC', 30],\n",
        "### ['AGATACATAGACATAGAC', 31],\n",
        "### ['GATACATAGACATAGAC', 32],\n",
        "### ['ATACATAGACATAGAC', 33],\n",
        "### ['TACATAGACATAGAC', 34],\n",
        "### ['ACATAGACATAGAC', 35],\n",
        "### ['CATAGACATAGAC', 36],\n",
        "### ['ATAGACATAGAC', 37],\n",
        "### ['TAGACATAGAC', 38],\n",
        "### ['AGACATAGAC', 39],\n",
        "### ['GACATAGAC', 40],\n",
        "### ['ACATAGAC', 41],\n",
        "### ['CATAGAC', 42],\n",
        "### ['ATAGAC', 43],\n",
        "### ['TAGAC', 44],\n",
        "### ['AGAC', 45],\n",
        "### ['GAC', 46],\n",
        "### ['AC', 47],\n",
        "### ['C', 48]]\n",
        "\n",
        "### 2. Classement du tableau des suffixes:\n",
        "\n",
        "### ['AAAGCCATAGATACATAGACATAGAC', 23]\n",
        "### ['AAGCCATAGATACATAGACATAGAC', 24]\n",
        "### ['AC', 47]\n",
        "### ['ACATAGAC', 41]\n",
        "### ['ACATAGACATAGAC', 35]\n",
        "### ['AGAC', 45]\n",
        "### ['AGACATAGAC', 39]\n",
        "### ['AGATACATAGACATAGAC', 31]\n",
        "### ['AGCCATAGATACATAGACATAGAC', 25]\n",
        "### ['ATACATAGACATAGAC', 33]\n",
        "### ['ATAGAC', 43]\n",
        "### ['ATAGACATAGAC', 37]\n",
        "### ['ATAGATACATAGACATAGAC', 29]\n",
        "### ['ATGATGCCATTAAAGCCATAGATACATAGACATAGAC', 12]\n",
        "### ['ATGCCATGATGCCATTAAAGCCATAGATACATAGACATAGAC', 7]\n",
        "### ['ATGCCATTAAAGCCATAGATACATAGACATAGAC', 15]\n",
        "### ['ATTAAAGCCATAGATACATAGACATAGAC', 20]\n",
        "### ['ATTCGTTATGCCATGATGCCATTAAAGCCATAGATACATAGACATAGAC', 0]\n",
        "### ['C', 48]\n",
        "### ['CATAGAC', 42]\n",
        "### ['CATAGACATAGAC', 36]\n",
        "### ['CATAGATACATAGACATAGAC', 28]\n",
        "### ['CATGATGCCATTAAAGCCATAGATACATAGACATAGAC', 11]\n",
        "### ['CATTAAAGCCATAGATACATAGACATAGAC', 19]\n",
        "### ['CCATAGATACATAGACATAGAC', 27]\n",
        "### ['CCATGATGCCATTAAAGCCATAGATACATAGACATAGAC', 10]\n",
        "### ['CCATTAAAGCCATAGATACATAGACATAGAC', 18]\n",
        "### ['CGTTATGCCATGATGCCATTAAAGCCATAGATACATAGACATAGAC', 3]\n",
        "### ['GAC', 46]\n",
        "### ['GACATAGAC', 40]\n",
        "### ['GATACATAGACATAGAC', 32]\n",
        "### ['GATGCCATTAAAGCCATAGATACATAGACATAGAC', 14]\n",
        "### ['GCCATAGATACATAGACATAGAC', 26]\n",
        "### ['GCCATGATGCCATTAAAGCCATAGATACATAGACATAGAC', 9]\n",
        "### ['GCCATTAAAGCCATAGATACATAGACATAGAC', 17]\n",
        "### ['GTTATGCCATGATGCCATTAAAGCCATAGATACATAGACATAGAC', 4]\n",
        "### ['TAAAGCCATAGATACATAGACATAGAC', 22]\n",
        "### ['TACATAGACATAGAC', 34]\n",
        "### ['TAGAC', 44]\n",
        "### ['TAGACATAGAC', 38]\n",
        "### ['TAGATACATAGACATAGAC', 30]\n",
        "### ['TATGCCATGATGCCATTAAAGCCATAGATACATAGACATAGAC', 6]\n",
        "### ['TCGTTATGCCATGATGCCATTAAAGCCATAGATACATAGACATAGAC', 2]\n",
        "### ['TGATGCCATTAAAGCCATAGATACATAGACATAGAC', 13]\n",
        "### ['TGCCATGATGCCATTAAAGCCATAGATACATAGACATAGAC', 8]\n",
        "### ['TGCCATTAAAGCCATAGATACATAGACATAGAC', 16]\n",
        "### ['TTAAAGCCATAGATACATAGACATAGAC', 21]\n",
        "### ['TTATGCCATGATGCCATTAAAGCCATAGATACATAGACATAGAC', 5]\n",
        "### ['TTCGTTATGCCATGATGCCATTAAAGCCATAGATACATAGACATAGAC', 1]\n",
        "\n",
        "### - Téléchargement du chromosome A1 de Brassica napus :\n",
        "### wget ftp://ftp.ncbi.nlm.nih.gov/genomes/Brassica_napus/CHR_A1/*.fa.gz\n",
        "### gunzip bna_ref_Bra_napus_v2.0_chrA1.fa.gz\n",
        "\n## Bonne chance !"
      ],
      "metadata": {}
    }
  ],
  "metadata": {
    "kernel_info": {
      "name": "python2"
    },
    "kernelspec": {
      "name": "python2",
      "language": "python",
      "display_name": "Python 2"
    },
    "language_info": {
      "mimetype": "text/x-python",
      "nbconvert_exporter": "python",
      "name": "python",
      "pygments_lexer": "ipython2",
      "version": "2.7.14",
      "file_extension": ".py",
      "codemirror_mode": {
        "version": 2,
        "name": "ipython"
      }
    },
    "nteract": {
      "version": "0.8.4"
    }
  },
  "nbformat": 4,
  "nbformat_minor": 4
}